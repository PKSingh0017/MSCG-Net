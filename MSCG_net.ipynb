{
 "cells": [
  {
   "cell_type": "markdown",
   "metadata": {
    "colab_type": "text",
    "id": "view-in-github"
   },
   "source": [
    "<a href=\"https://colab.research.google.com/github/PKSingh0017/MSCG-Net/blob/master/MSCG_net.ipynb\" target=\"_parent\"><img src=\"https://colab.research.google.com/assets/colab-badge.svg\" alt=\"Open In Colab\"/></a>"
   ]
  },
  {
   "cell_type": "code",
   "execution_count": 2,
   "metadata": {
    "colab": {
     "base_uri": "https://localhost:8080/"
    },
    "id": "1ge3efg3IQNe",
    "outputId": "abf78ddf-94b8-4a5d-b584-98dceefa90e0"
   },
   "outputs": [
    {
     "name": "stdout",
     "output_type": "stream",
     "text": [
      "Cloning into 'MSCG-Net'...\n",
      "remote: Enumerating objects: 85, done.\u001b[K\n",
      "remote: Counting objects: 100% (85/85), done.\u001b[K\n",
      "remote: Compressing objects: 100% (74/74), done.\u001b[K\n",
      "remote: Total 85 (delta 34), reused 40 (delta 6), pack-reused 0\u001b[K\n",
      "Unpacking objects: 100% (85/85), done.\n"
     ]
    }
   ],
   "source": [
    "!git clone https://github.com/PKSingh0017/MSCG-Net.git"
   ]
  },
  {
   "cell_type": "code",
   "execution_count": 8,
   "metadata": {
    "id": "peLH_N0cKUCn"
   },
   "outputs": [],
   "source": [
    "!cd /content/MSCG-Net"
   ]
  },
  {
   "cell_type": "code",
   "execution_count": 9,
   "metadata": {
    "colab": {
     "base_uri": "https://localhost:8080/"
    },
    "id": "LxT1d5rQKjHL",
    "outputId": "c1b41568-e80c-4d92-a48d-26e8c8ca4ea9"
   },
   "outputs": [
    {
     "name": "stdout",
     "output_type": "stream",
     "text": [
      "drive  MSCG-Net  sample_data\n"
     ]
    }
   ],
   "source": [
    "!ls"
   ]
  },
  {
   "cell_type": "code",
   "execution_count": null,
   "metadata": {},
   "outputs": [],
   "source": []
  },
  {
   "cell_type": "code",
   "execution_count": 1,
   "metadata": {},
   "outputs": [
    {
     "ename": "ModuleNotFoundError",
     "evalue": "No module named 'cv2'",
     "output_type": "error",
     "traceback": [
      "\u001b[0;31m---------------------------------------------------------------------------\u001b[0m",
      "\u001b[0;31mModuleNotFoundError\u001b[0m                       Traceback (most recent call last)",
      "\u001b[0;32m<ipython-input-1-9a7e924ed32a>\u001b[0m in \u001b[0;36m<module>\u001b[0;34m\u001b[0m\n\u001b[1;32m      3\u001b[0m \u001b[0;32mimport\u001b[0m \u001b[0mdatetime\u001b[0m\u001b[0;34m\u001b[0m\u001b[0;34m\u001b[0m\u001b[0m\n\u001b[1;32m      4\u001b[0m \u001b[0;34m\u001b[0m\u001b[0m\n\u001b[0;32m----> 5\u001b[0;31m \u001b[0;32mfrom\u001b[0m \u001b[0mdata\u001b[0m\u001b[0;34m.\u001b[0m\u001b[0mAgricultureVision\u001b[0m\u001b[0;34m.\u001b[0m\u001b[0mloader\u001b[0m \u001b[0;32mimport\u001b[0m \u001b[0;34m*\u001b[0m\u001b[0;34m\u001b[0m\u001b[0;34m\u001b[0m\u001b[0m\n\u001b[0m",
      "\u001b[0;32m~/Documents/Internships/EmpoweredMinds/MSCG-Net/data/AgricultureVision/loader.py\u001b[0m in \u001b[0;36m<module>\u001b[0;34m\u001b[0m\n\u001b[0;32m----> 1\u001b[0;31m \u001b[0;32mfrom\u001b[0m \u001b[0mdata\u001b[0m\u001b[0;34m.\u001b[0m\u001b[0maugmt\u001b[0m \u001b[0;32mimport\u001b[0m \u001b[0;34m*\u001b[0m\u001b[0;34m\u001b[0m\u001b[0;34m\u001b[0m\u001b[0m\n\u001b[0m\u001b[1;32m      2\u001b[0m \u001b[0;34m\u001b[0m\u001b[0m\n\u001b[1;32m      3\u001b[0m \u001b[0;32mimport\u001b[0m \u001b[0mtorch\u001b[0m\u001b[0;34m\u001b[0m\u001b[0;34m\u001b[0m\u001b[0m\n\u001b[1;32m      4\u001b[0m \u001b[0;32mfrom\u001b[0m \u001b[0mtorch\u001b[0m\u001b[0;34m.\u001b[0m\u001b[0mutils\u001b[0m\u001b[0;34m.\u001b[0m\u001b[0mdata\u001b[0m \u001b[0;32mimport\u001b[0m \u001b[0mDataset\u001b[0m\u001b[0;34m\u001b[0m\u001b[0;34m\u001b[0m\u001b[0m\n\u001b[1;32m      5\u001b[0m \u001b[0;32mimport\u001b[0m \u001b[0mtorchvision\u001b[0m\u001b[0;34m.\u001b[0m\u001b[0mtransforms\u001b[0m \u001b[0;32mas\u001b[0m \u001b[0mstandard_transforms\u001b[0m\u001b[0;34m\u001b[0m\u001b[0;34m\u001b[0m\u001b[0m\n",
      "\u001b[0;32m~/Documents/Internships/EmpoweredMinds/MSCG-Net/data/augmt.py\u001b[0m in \u001b[0;36m<module>\u001b[0;34m\u001b[0m\n\u001b[0;32m----> 1\u001b[0;31m \u001b[0;32mimport\u001b[0m \u001b[0mcv2\u001b[0m\u001b[0;34m\u001b[0m\u001b[0;34m\u001b[0m\u001b[0m\n\u001b[0m\u001b[1;32m      2\u001b[0m \u001b[0;32mimport\u001b[0m \u001b[0mnumpy\u001b[0m \u001b[0;32mas\u001b[0m \u001b[0mnp\u001b[0m\u001b[0;34m\u001b[0m\u001b[0;34m\u001b[0m\u001b[0m\n\u001b[1;32m      3\u001b[0m \u001b[0;32mimport\u001b[0m \u001b[0mrandom\u001b[0m\u001b[0;34m\u001b[0m\u001b[0;34m\u001b[0m\u001b[0m\n\u001b[1;32m      4\u001b[0m \u001b[0;34m\u001b[0m\u001b[0m\n\u001b[1;32m      5\u001b[0m \u001b[0;32mfrom\u001b[0m \u001b[0mlib\u001b[0m\u001b[0;34m.\u001b[0m\u001b[0mutils\u001b[0m\u001b[0;34m.\u001b[0m\u001b[0mfuntions\u001b[0m \u001b[0;32mimport\u001b[0m \u001b[0mimage_enhance\u001b[0m\u001b[0;34m\u001b[0m\u001b[0;34m\u001b[0m\u001b[0m\n",
      "\u001b[0;31mModuleNotFoundError\u001b[0m: No module named 'cv2'"
     ]
    }
   ],
   "source": [
    "import os\n",
    "import numpy as np\n",
    "import datetime\n",
    "\n",
    "from data.AgricultureVision.loader import *"
   ]
  },
  {
   "cell_type": "code",
   "execution_count": 4,
   "metadata": {
    "colab": {
     "base_uri": "https://localhost:8080/"
    },
    "id": "6ggTMEy_Iw12",
    "outputId": "5396e832-1dea-4874-fc71-1939b0f64102"
   },
   "outputs": [
    {
     "name": "stdout",
     "output_type": "stream",
     "text": [
      "/bin/bash: line 0: cd: MSCG-net: No such file or directory\n"
     ]
    }
   ],
   "source": [
    "\n",
    "\n",
    "\n",
    "class agriculture_configs(object):\n",
    "    model = 'none'\n",
    "    # data set parameters\n",
    "    dataset = 'Agriculture'\n",
    "    bands = ['NIR', 'RGB']\n",
    "    loader = AlgricultureDataset\n",
    "    labels = land_classes\n",
    "    nb_classes = len(land_classes)\n",
    "    palette = palette_vsl #palette_vsl\n",
    "    weights = []\n",
    "\n",
    "    k_folder = 0\n",
    "    k = 0\n",
    "    input_size = [512, 512]\n",
    "    scale_rate = 1.0/1.0\n",
    "    val_size = [512, 512] #[1224, 1224]#[2248, 2248]\n",
    "    train_samples = 12901\n",
    "    val_samples = 1200\n",
    "    train_batch = 7\n",
    "    val_batch = 7\n",
    "\n",
    "    # flag of mean_std normalization to [-1, 1]\n",
    "    pre_norm = False\n",
    "    seeds = 69278 # random seed\n",
    "\n",
    "    # training hyper parameters\n",
    "    lr = 1.5e-4 / np.sqrt(3.0)\n",
    "    lr_decay = 0.9\n",
    "    max_iter = 1e8\n",
    "\n",
    "    # l2 regularization factor, increasing or decreasing to fight over-fitting\n",
    "    weight_decay = 2e-5\n",
    "    momentum = 0.9\n",
    "\n",
    "    # check point parameters\n",
    "    ckpt_path = '../ckpt'\n",
    "    snapshot = ''\n",
    "    print_freq = 100\n",
    "    save_pred = False\n",
    "    save_rate = 0.1\n",
    "    best_record = {}\n",
    "\n",
    "    def __init__(self, net_name=model, data=dataset, bands_list=bands, kf=1, k_folder=5, note=''):\n",
    "        self.model = net_name\n",
    "        self.dataset = data\n",
    "        self.bands = bands_list\n",
    "        self.k = kf\n",
    "        self.k_folder = k_folder\n",
    "        self.suffix_note = note\n",
    "\n",
    "        check_mkdir(self.ckpt_path)\n",
    "        check_mkdir(os.path.join(self.ckpt_path, self.model))\n",
    "\n",
    "        bandstr = '-'.join(self.bands)\n",
    "        if self.k_folder is not None:\n",
    "            subfolder = self.dataset + '_' + bandstr + '_kf-' + str(self.k_folder) + '-' + str(self.k)\n",
    "        else:\n",
    "            subfolder = self.dataset + '_' + bandstr\n",
    "        if note != '':\n",
    "            subfolder += '-'\n",
    "            subfolder += note\n",
    "\n",
    "        check_mkdir(os.path.join(self.ckpt_path, self.model, subfolder))\n",
    "        self.save_path = os.path.join(self.ckpt_path, self.model, subfolder)\n",
    "\n",
    "    def get_file_list(self):\n",
    "        return split_train_val_test_sets(name=self.dataset, bands=self.bands, KF=self.k_folder, k=self.k, seeds=self.seeds)\n",
    "\n",
    "    def get_dataset(self):\n",
    "        train_dict, val_dict, test_dict = self.get_file_list()\n",
    "        # split_train_val_test_sets(name=self.dataset,KF=None, k=self.k,seeds=self.seeds)\n",
    "        train_set = self.loader(mode='train', file_lists=train_dict, pre_norm=self.pre_norm,\n",
    "                                    num_samples=self.train_samples, windSize=self.input_size, scale=self.scale_rate)\n",
    "        val_set = self.loader(mode='val', file_lists=val_dict, pre_norm=self.pre_norm,\n",
    "                                  num_samples=self.val_samples, windSize=self.val_size, scale=self.scale_rate)\n",
    "        return train_set, val_set\n",
    "\n",
    "\n",
    "    def resume_train(self, net):\n",
    "        if len(self.snapshot) == 0:\n",
    "            curr_epoch = 1\n",
    "            self.best_record = {'epoch': 0, 'val_loss': 0, 'acc': 0, 'acc_cls': 0, 'mean_iu': 0, 'fwavacc': 0,\n",
    "                                'f1': 0}\n",
    "        else:\n",
    "            print('training resumes from ' + self.snapshot)\n",
    "            # net.load_state_dict(torch.load(self.snapshot))\n",
    "            net.load_state_dict(torch.load(os.path.join(self.save_path, self.snapshot)))\n",
    "            split_snapshot = self.snapshot.split('_')\n",
    "            curr_epoch = int(split_snapshot[1]) + 1\n",
    "            self.best_record = {'epoch': int(split_snapshot[1]), 'val_loss': float(split_snapshot[3]),\n",
    "                                'acc': float(split_snapshot[5]), 'acc_cls': float(split_snapshot[7]),\n",
    "                                'mean_iu': float(split_snapshot[9]), 'fwavacc': float(split_snapshot[11]),\n",
    "                                'f1': float(split_snapshot[13])}\n",
    "        return net, curr_epoch\n",
    "\n",
    "\n",
    "    def print_best_record(self):\n",
    "        print(\n",
    "            '[best_ %d]: [val loss %.5f], [acc %.5f], [acc_cls %.5f], [mean_iu %.5f], [fwavacc %.5f], [f1 %.5f]' % (\n",
    "                self.best_record['epoch'],\n",
    "                self.best_record['val_loss'], self.best_record['acc'],\n",
    "                self.best_record['acc_cls'],\n",
    "                self.best_record['mean_iu'], self.best_record['fwavacc'], self.best_record['f1']\n",
    "            ))\n",
    "\n",
    "\n",
    "    def update_best_record(self, epoch, val_loss,\n",
    "                           acc, acc_cls, mean_iu,\n",
    "                           fwavacc, f1):\n",
    "        print('----------------------------------------------------------------------------------------')\n",
    "        print('[epoch %d]: [val loss %.5f], [acc %.5f], [acc_cls %.5f], [mean_iu %.5f], [fwavacc %.5f], [f1 %.5f]' % (\n",
    "            epoch, val_loss, acc, acc_cls, mean_iu, fwavacc, f1))\n",
    "        self.print_best_record()\n",
    "\n",
    "        print('----------------------------------------------------------------------------------------')\n",
    "        if mean_iu > self.best_record['mean_iu'] or f1 > self.best_record['f1']:\n",
    "            self.best_record['epoch'] = epoch\n",
    "            self.best_record['val_loss'] = val_loss\n",
    "            self.best_record['acc'] = acc\n",
    "            self.best_record['acc_cls'] = acc_cls\n",
    "            self.best_record['mean_iu'] = mean_iu\n",
    "            self.best_record['fwavacc'] = fwavacc\n",
    "            self.best_record['f1'] = f1\n",
    "            return True\n",
    "        else:\n",
    "            return False\n",
    "\n",
    "    def display(self):\n",
    "        \"\"\"printout all configuration values.\"\"\"\n",
    "        print(\"\\nConfigurations:\")\n",
    "        for a in dir(self):\n",
    "            if not a.startswith(\"__\") and not callable(getattr(self, a)):\n",
    "                print(\"{:30} {}\".format(a, getattr(self, a)))\n",
    "        print(\"\\n\")\n",
    "\n",
    "    def write2txt(self):\n",
    "        file = open(os.path.join(self.save_path,\n",
    "                                 str(datetime.datetime.now()) + '.txt'), 'w')\n",
    "        for a in dir(self):\n",
    "            if not a.startswith(\"__\") and not callable(getattr(self, a)):\n",
    "                line = \"{:30} {}\".format(a, getattr(self, a))\n",
    "                file.write(line + '\\n')\n",
    "\n",
    "\n",
    "def check_mkdir(dir_name):\n",
    "    if not os.path.exists(dir_name):\n",
    "        os.mkdir(dir_name)"
   ]
  }
 ],
 "metadata": {
  "colab": {
   "authorship_tag": "ABX9TyOVBnk6LnGc2Fz7AYEX4x0Q",
   "include_colab_link": true,
   "mount_file_id": "1lT5tfyQdqUifJZG2ygSRTBy_ONkkgi7o",
   "name": "MSCG-net.ipynb",
   "provenance": [],
   "toc_visible": true
  },
  "kernelspec": {
   "display_name": "Python 3",
   "language": "python",
   "name": "python3"
  },
  "language_info": {
   "codemirror_mode": {
    "name": "ipython",
    "version": 3
   },
   "file_extension": ".py",
   "mimetype": "text/x-python",
   "name": "python",
   "nbconvert_exporter": "python",
   "pygments_lexer": "ipython3",
   "version": "3.7.5"
  }
 },
 "nbformat": 4,
 "nbformat_minor": 1
}
